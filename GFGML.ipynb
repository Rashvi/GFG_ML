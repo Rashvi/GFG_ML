{
  "nbformat": 4,
  "nbformat_minor": 0,
  "metadata": {
    "colab": {
      "name": "GFGML.ipynb",
      "provenance": [],
      "authorship_tag": "ABX9TyOo2soUx1H44RaJcmtsYVhv",
      "include_colab_link": true
    },
    "kernelspec": {
      "name": "python3",
      "display_name": "Python 3"
    }
  },
  "cells": [
    {
      "cell_type": "markdown",
      "metadata": {
        "id": "view-in-github",
        "colab_type": "text"
      },
      "source": [
        "<a href=\"https://colab.research.google.com/github/Rashvi/GFG_ML/blob/main/GFGML.ipynb\" target=\"_parent\"><img src=\"https://colab.research.google.com/assets/colab-badge.svg\" alt=\"Open In Colab\"/></a>"
      ]
    },
    {
      "cell_type": "code",
      "metadata": {
        "id": "8x9BNsu21RUG"
      },
      "source": [
        "import numpy as np"
      ],
      "execution_count": 1,
      "outputs": []
    },
    {
      "cell_type": "code",
      "metadata": {
        "id": "hqI5LJHY1h4q"
      },
      "source": [
        "#creating array from python list\r\n",
        "list1 = [2,4,6,8,10]\r\n",
        "arr1 = np.array(list)"
      ],
      "execution_count": 5,
      "outputs": []
    },
    {
      "cell_type": "code",
      "metadata": {
        "colab": {
          "base_uri": "https://localhost:8080/"
        },
        "id": "yQOJ33pN10nt",
        "outputId": "1a334bff-45a7-4c3d-cc44-77fa660fc0e4"
      },
      "source": [
        "arr1\r\n",
        "type(arr1)"
      ],
      "execution_count": 8,
      "outputs": [
        {
          "output_type": "execute_result",
          "data": {
            "text/plain": [
              "numpy.ndarray"
            ]
          },
          "metadata": {
            "tags": []
          },
          "execution_count": 8
        }
      ]
    },
    {
      "cell_type": "code",
      "metadata": {
        "colab": {
          "base_uri": "https://localhost:8080/"
        },
        "id": "Nvovcv2C13DF",
        "outputId": "7e67c3c8-aff1-43ac-910f-06d89080713e"
      },
      "source": [
        "list1\r\n",
        "type(list1)"
      ],
      "execution_count": 7,
      "outputs": [
        {
          "output_type": "execute_result",
          "data": {
            "text/plain": [
              "list"
            ]
          },
          "metadata": {
            "tags": []
          },
          "execution_count": 7
        }
      ]
    },
    {
      "cell_type": "code",
      "metadata": {
        "id": "skOF2Zaf16Ir"
      },
      "source": [
        "#converting list to array \r\n",
        "list1 = [[2,4,6],\r\n",
        "         [3,5,7]]\r\n",
        "arr1 = np.array(list1);         "
      ],
      "execution_count": 9,
      "outputs": []
    },
    {
      "cell_type": "code",
      "metadata": {
        "colab": {
          "base_uri": "https://localhost:8080/"
        },
        "id": "F-EhtRDK4OXf",
        "outputId": "3c25cc46-a1b1-4a5b-f524-82a99aa9438f"
      },
      "source": [
        "#float array\r\n",
        "arr2 = np.array(arr1 , dtype = 'float')\r\n",
        "arr2"
      ],
      "execution_count": 11,
      "outputs": [
        {
          "output_type": "execute_result",
          "data": {
            "text/plain": [
              "array([[2., 4., 6.],\n",
              "       [3., 5., 7.]])"
            ]
          },
          "metadata": {
            "tags": []
          },
          "execution_count": 11
        }
      ]
    },
    {
      "cell_type": "code",
      "metadata": {
        "colab": {
          "base_uri": "https://localhost:8080/"
        },
        "id": "FqI7LbAw4mxg",
        "outputId": "d71f4dfc-57f3-4c54-9b4b-d50234c34049"
      },
      "source": [
        "# array to list\r\n",
        "list2 = arr2.tolist();\r\n",
        "list2"
      ],
      "execution_count": 14,
      "outputs": [
        {
          "output_type": "execute_result",
          "data": {
            "text/plain": [
              "[[2.0, 4.0, 6.0], [3.0, 5.0, 7.0]]"
            ]
          },
          "metadata": {
            "tags": []
          },
          "execution_count": 14
        }
      ]
    },
    {
      "cell_type": "markdown",
      "metadata": {
        "id": "KSvn1SZf6Zrn"
      },
      "source": [
        "#Array Diamensions"
      ]
    },
    {
      "cell_type": "code",
      "metadata": {
        "colab": {
          "base_uri": "https://localhost:8080/"
        },
        "id": "K_9VtlFv6f4z",
        "outputId": "af9d4269-bdc6-423d-d0eb-94a3888b1eef"
      },
      "source": [
        "arr2.shape\r\n",
        "arr2.size"
      ],
      "execution_count": 18,
      "outputs": [
        {
          "output_type": "execute_result",
          "data": {
            "text/plain": [
              "6"
            ]
          },
          "metadata": {
            "tags": []
          },
          "execution_count": 18
        }
      ]
    },
    {
      "cell_type": "markdown",
      "metadata": {
        "id": "s4fPxbig-IvQ"
      },
      "source": [
        "# Reversing rows and columns"
      ]
    },
    {
      "cell_type": "code",
      "metadata": {
        "colab": {
          "base_uri": "https://localhost:8080/"
        },
        "id": "OIwDGIsG9o_4",
        "outputId": "49ef4248-46c2-4bbd-d75d-4cf9f03a3a21"
      },
      "source": [
        "#reversing row\r\n",
        "arr2[::-1]"
      ],
      "execution_count": 19,
      "outputs": [
        {
          "output_type": "execute_result",
          "data": {
            "text/plain": [
              "array([[3., 5., 7.],\n",
              "       [2., 4., 6.]])"
            ]
          },
          "metadata": {
            "tags": []
          },
          "execution_count": 19
        }
      ]
    },
    {
      "cell_type": "code",
      "metadata": {
        "colab": {
          "base_uri": "https://localhost:8080/"
        },
        "id": "nGwizR5a-e10",
        "outputId": "adfcb50f-817e-4f1d-99cb-65c141eaae59"
      },
      "source": [
        "#reverse the columns\r\n",
        "arr2[::,::-1]"
      ],
      "execution_count": 20,
      "outputs": [
        {
          "output_type": "execute_result",
          "data": {
            "text/plain": [
              "array([[6., 4., 2.],\n",
              "       [7., 5., 3.]])"
            ]
          },
          "metadata": {
            "tags": []
          },
          "execution_count": 20
        }
      ]
    },
    {
      "cell_type": "code",
      "metadata": {
        "colab": {
          "base_uri": "https://localhost:8080/"
        },
        "id": "AKJJ_jwb-r_8",
        "outputId": "e33c5b5f-1ae4-4ce6-c3b8-eb769ca27848"
      },
      "source": [
        "#reerse both row and columns\r\n",
        "arr2[::-1,::-1]"
      ],
      "execution_count": 21,
      "outputs": [
        {
          "output_type": "execute_result",
          "data": {
            "text/plain": [
              "array([[7., 5., 3.],\n",
              "       [6., 4., 2.]])"
            ]
          },
          "metadata": {
            "tags": []
          },
          "execution_count": 21
        }
      ]
    },
    {
      "cell_type": "markdown",
      "metadata": {
        "id": "XhJSms7l_UoU"
      },
      "source": [
        "# Specific Elements Extraction"
      ]
    },
    {
      "cell_type": "code",
      "metadata": {
        "colab": {
          "base_uri": "https://localhost:8080/"
        },
        "id": "P5GsrmvE-8LQ",
        "outputId": "4e9ce54c-9718-4059-a321-5c73c2e00566"
      },
      "source": [
        "#all the columns element but from 1 row\r\n",
        "arr1[0,:]\r\n",
        "#it is equivalent to \r\n",
        "arr1[:1,:]"
      ],
      "execution_count": 23,
      "outputs": [
        {
          "output_type": "execute_result",
          "data": {
            "text/plain": [
              "array([[2, 4, 6]])"
            ]
          },
          "metadata": {
            "tags": []
          },
          "execution_count": 23
        }
      ]
    },
    {
      "cell_type": "markdown",
      "metadata": {
        "id": "ZyER486PGcOw"
      },
      "source": [
        "#Basic Statistics \r\n"
      ]
    },
    {
      "cell_type": "code",
      "metadata": {
        "colab": {
          "base_uri": "https://localhost:8080/"
        },
        "id": "yY0GxTsKACmF",
        "outputId": "f090f57c-4bdd-4fff-b0af-348266818535"
      },
      "source": [
        "arr2"
      ],
      "execution_count": 24,
      "outputs": [
        {
          "output_type": "execute_result",
          "data": {
            "text/plain": [
              "array([[2., 4., 6.],\n",
              "       [3., 5., 7.]])"
            ]
          },
          "metadata": {
            "tags": []
          },
          "execution_count": 24
        }
      ]
    },
    {
      "cell_type": "code",
      "metadata": {
        "colab": {
          "base_uri": "https://localhost:8080/"
        },
        "id": "l1Gw0hHnI1_k",
        "outputId": "6674f84b-5d34-4971-a925-664bd2f1a19d"
      },
      "source": [
        "arr2.min()"
      ],
      "execution_count": 25,
      "outputs": [
        {
          "output_type": "execute_result",
          "data": {
            "text/plain": [
              "2.0"
            ]
          },
          "metadata": {
            "tags": []
          },
          "execution_count": 25
        }
      ]
    },
    {
      "cell_type": "code",
      "metadata": {
        "colab": {
          "base_uri": "https://localhost:8080/"
        },
        "id": "wbph7GJfI7-9",
        "outputId": "f875a5a2-d5f6-4cdf-e541-d44b5d05171f"
      },
      "source": [
        "arr2.max()"
      ],
      "execution_count": 26,
      "outputs": [
        {
          "output_type": "execute_result",
          "data": {
            "text/plain": [
              "7.0"
            ]
          },
          "metadata": {
            "tags": []
          },
          "execution_count": 26
        }
      ]
    },
    {
      "cell_type": "code",
      "metadata": {
        "colab": {
          "base_uri": "https://localhost:8080/"
        },
        "id": "1DsB1vAKI9sg",
        "outputId": "b0d808a9-3ddc-4b7b-da4e-e258db74091c"
      },
      "source": [
        "arr2.sum()"
      ],
      "execution_count": 27,
      "outputs": [
        {
          "output_type": "execute_result",
          "data": {
            "text/plain": [
              "27.0"
            ]
          },
          "metadata": {
            "tags": []
          },
          "execution_count": 27
        }
      ]
    },
    {
      "cell_type": "code",
      "metadata": {
        "colab": {
          "base_uri": "https://localhost:8080/"
        },
        "id": "znyzFIWTJCXC",
        "outputId": "f5625311-1f66-410b-ea8a-29ef99144f41"
      },
      "source": [
        "arr2.mean()\r\n",
        "#or\r\n",
        "np.average(arr2)"
      ],
      "execution_count": 31,
      "outputs": [
        {
          "output_type": "execute_result",
          "data": {
            "text/plain": [
              "4.5"
            ]
          },
          "metadata": {
            "tags": []
          },
          "execution_count": 31
        }
      ]
    },
    {
      "cell_type": "code",
      "metadata": {
        "colab": {
          "base_uri": "https://localhost:8080/"
        },
        "id": "B39Mksz_I_XD",
        "outputId": "86c43fbb-821e-40de-d341-4d8df2c74181"
      },
      "source": [
        "np.median(arr2)"
      ],
      "execution_count": 30,
      "outputs": [
        {
          "output_type": "execute_result",
          "data": {
            "text/plain": [
              "4.5"
            ]
          },
          "metadata": {
            "tags": []
          },
          "execution_count": 30
        }
      ]
    },
    {
      "cell_type": "code",
      "metadata": {
        "colab": {
          "base_uri": "https://localhost:8080/"
        },
        "id": "hSFxRIZeJHWl",
        "outputId": "a5aa4616-f129-427e-83e8-01b9068fd1e6"
      },
      "source": [
        "#to get varience\r\n",
        "np.var(arr2)"
      ],
      "execution_count": 33,
      "outputs": [
        {
          "output_type": "execute_result",
          "data": {
            "text/plain": [
              "2.9166666666666665"
            ]
          },
          "metadata": {
            "tags": []
          },
          "execution_count": 33
        }
      ]
    },
    {
      "cell_type": "markdown",
      "metadata": {
        "id": "y7XdGzU_JiH6"
      },
      "source": [
        "#Reshaping and Flattening"
      ]
    },
    {
      "cell_type": "code",
      "metadata": {
        "colab": {
          "base_uri": "https://localhost:8080/"
        },
        "id": "qTSvrVRFJYRe",
        "outputId": "468cedf0-423f-4947-d6bd-7991f90271eb"
      },
      "source": [
        "arr2.shape"
      ],
      "execution_count": 36,
      "outputs": [
        {
          "output_type": "execute_result",
          "data": {
            "text/plain": [
              "(2, 3)"
            ]
          },
          "metadata": {
            "tags": []
          },
          "execution_count": 36
        }
      ]
    },
    {
      "cell_type": "code",
      "metadata": {
        "colab": {
          "base_uri": "https://localhost:8080/"
        },
        "id": "r5yENVrwKEiz",
        "outputId": "d6799aaf-52c1-4789-eba6-1a0f4a414f99"
      },
      "source": [
        "arr2.reshape(3,2)\r\n",
        "#but number of elements should be equal"
      ],
      "execution_count": 37,
      "outputs": [
        {
          "output_type": "execute_result",
          "data": {
            "text/plain": [
              "array([[2., 4.],\n",
              "       [6., 3.],\n",
              "       [5., 7.]])"
            ]
          },
          "metadata": {
            "tags": []
          },
          "execution_count": 37
        }
      ]
    },
    {
      "cell_type": "code",
      "metadata": {
        "colab": {
          "base_uri": "https://localhost:8080/"
        },
        "id": "fb06K_wdKOQb",
        "outputId": "94a0505d-e0fc-40a4-e01d-1b5f29d66494"
      },
      "source": [
        "arr2.reshape(6)"
      ],
      "execution_count": 38,
      "outputs": [
        {
          "output_type": "execute_result",
          "data": {
            "text/plain": [
              "array([2., 4., 6., 3., 5., 7.])"
            ]
          },
          "metadata": {
            "tags": []
          },
          "execution_count": 38
        }
      ]
    },
    {
      "cell_type": "code",
      "metadata": {
        "colab": {
          "base_uri": "https://localhost:8080/"
        },
        "id": "UxpeQvztKa0U",
        "outputId": "0887414e-d5bd-43ef-9b5b-663e2017c590"
      },
      "source": [
        "arr2"
      ],
      "execution_count": 39,
      "outputs": [
        {
          "output_type": "execute_result",
          "data": {
            "text/plain": [
              "array([[2., 4., 6.],\n",
              "       [3., 5., 7.]])"
            ]
          },
          "metadata": {
            "tags": []
          },
          "execution_count": 39
        }
      ]
    },
    {
      "cell_type": "code",
      "metadata": {
        "id": "ttk3Q-9fKdbB"
      },
      "source": [
        "#to have single diamension\r\n",
        "f1 = arr2.flatten();"
      ],
      "execution_count": 40,
      "outputs": []
    },
    {
      "cell_type": "code",
      "metadata": {
        "colab": {
          "base_uri": "https://localhost:8080/"
        },
        "id": "fHaC2CgRKqDF",
        "outputId": "ee76cf4f-7894-429e-c21d-8dd855981cc6"
      },
      "source": [
        "f1"
      ],
      "execution_count": 41,
      "outputs": [
        {
          "output_type": "execute_result",
          "data": {
            "text/plain": [
              "array([2., 4., 6., 3., 5., 7.])"
            ]
          },
          "metadata": {
            "tags": []
          },
          "execution_count": 41
        }
      ]
    },
    {
      "cell_type": "markdown",
      "metadata": {
        "id": "76H40nXdK1wZ"
      },
      "source": [
        "#creating random arrays and sequences"
      ]
    },
    {
      "cell_type": "markdown",
      "metadata": {
        "id": "ACq5twA0K1sy"
      },
      "source": [
        ""
      ]
    },
    {
      "cell_type": "code",
      "metadata": {
        "colab": {
          "base_uri": "https://localhost:8080/"
        },
        "id": "87grEPvLKrbZ",
        "outputId": "3072445a-4694-47a5-c4db-b5548de89f36"
      },
      "source": [
        "arr = np.arange(2,10)\r\n",
        "arr"
      ],
      "execution_count": 43,
      "outputs": [
        {
          "output_type": "execute_result",
          "data": {
            "text/plain": [
              "array([2, 3, 4, 5, 6, 7, 8, 9])"
            ]
          },
          "metadata": {
            "tags": []
          },
          "execution_count": 43
        }
      ]
    },
    {
      "cell_type": "code",
      "metadata": {
        "colab": {
          "base_uri": "https://localhost:8080/"
        },
        "id": "rPNz5wcOLgur",
        "outputId": "7fc411e7-4978-4e99-f2a8-65cfda4e7884"
      },
      "source": [
        "#we can even give step size\r\n",
        "arr = np.arange(2,10,2)\r\n",
        "arr"
      ],
      "execution_count": 46,
      "outputs": [
        {
          "output_type": "execute_result",
          "data": {
            "text/plain": [
              "array([2, 4, 6, 8])"
            ]
          },
          "metadata": {
            "tags": []
          },
          "execution_count": 46
        }
      ]
    },
    {
      "cell_type": "code",
      "metadata": {
        "colab": {
          "base_uri": "https://localhost:8080/"
        },
        "id": "zPicIspdLrTN",
        "outputId": "99672586-dd99-4b71-e4c7-4603bbe6e02e"
      },
      "source": [
        "#printing in reverse order\r\n",
        "arr = np.arange(10,0,-1)\r\n",
        "arr"
      ],
      "execution_count": 47,
      "outputs": [
        {
          "output_type": "execute_result",
          "data": {
            "text/plain": [
              "array([10,  9,  8,  7,  6,  5,  4,  3,  2,  1])"
            ]
          },
          "metadata": {
            "tags": []
          },
          "execution_count": 47
        }
      ]
    },
    {
      "cell_type": "code",
      "metadata": {
        "colab": {
          "base_uri": "https://localhost:8080/"
        },
        "id": "Q42cVz9HMOHQ",
        "outputId": "84864ca8-a0d5-4fb0-96ad-701621adbaf6"
      },
      "source": [
        "#linspace automatically calculate the stepsize. we have to just give start,end and total elements\r\n",
        "arr = np.linspace(0,10,5)\r\n",
        "arr  "
      ],
      "execution_count": 48,
      "outputs": [
        {
          "output_type": "execute_result",
          "data": {
            "text/plain": [
              "array([ 0. ,  2.5,  5. ,  7.5, 10. ])"
            ]
          },
          "metadata": {
            "tags": []
          },
          "execution_count": 48
        }
      ]
    },
    {
      "cell_type": "code",
      "metadata": {
        "id": "DqiFYDMgM6K-"
      },
      "source": [
        ""
      ],
      "execution_count": null,
      "outputs": []
    }
  ]
}