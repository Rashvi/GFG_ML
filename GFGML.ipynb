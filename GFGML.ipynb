{
  "nbformat": 4,
  "nbformat_minor": 0,
  "metadata": {
    "colab": {
      "name": "GFGML.ipynb",
      "provenance": [],
      "authorship_tag": "ABX9TyPEHMLqAM/kvTJXGGtx05K8",
      "include_colab_link": true
    },
    "kernelspec": {
      "name": "python3",
      "display_name": "Python 3"
    }
  },
  "cells": [
    {
      "cell_type": "markdown",
      "metadata": {
        "id": "view-in-github",
        "colab_type": "text"
      },
      "source": [
        "<a href=\"https://colab.research.google.com/github/Rashvi/GFG_ML/blob/main/GFGML.ipynb\" target=\"_parent\"><img src=\"https://colab.research.google.com/assets/colab-badge.svg\" alt=\"Open In Colab\"/></a>"
      ]
    },
    {
      "cell_type": "code",
      "metadata": {
        "id": "8x9BNsu21RUG"
      },
      "source": [
        "import numpy as np"
      ],
      "execution_count": 1,
      "outputs": []
    },
    {
      "cell_type": "code",
      "metadata": {
        "id": "hqI5LJHY1h4q"
      },
      "source": [
        "#creating array from python list\r\n",
        "list1 = [2,4,6,8,10]\r\n",
        "arr1 = np.array(list)"
      ],
      "execution_count": 5,
      "outputs": []
    },
    {
      "cell_type": "code",
      "metadata": {
        "colab": {
          "base_uri": "https://localhost:8080/"
        },
        "id": "yQOJ33pN10nt",
        "outputId": "1a334bff-45a7-4c3d-cc44-77fa660fc0e4"
      },
      "source": [
        "arr1\r\n",
        "type(arr1)"
      ],
      "execution_count": 8,
      "outputs": [
        {
          "output_type": "execute_result",
          "data": {
            "text/plain": [
              "numpy.ndarray"
            ]
          },
          "metadata": {
            "tags": []
          },
          "execution_count": 8
        }
      ]
    },
    {
      "cell_type": "code",
      "metadata": {
        "colab": {
          "base_uri": "https://localhost:8080/"
        },
        "id": "Nvovcv2C13DF",
        "outputId": "7e67c3c8-aff1-43ac-910f-06d89080713e"
      },
      "source": [
        "list1\r\n",
        "type(list1)"
      ],
      "execution_count": 7,
      "outputs": [
        {
          "output_type": "execute_result",
          "data": {
            "text/plain": [
              "list"
            ]
          },
          "metadata": {
            "tags": []
          },
          "execution_count": 7
        }
      ]
    },
    {
      "cell_type": "code",
      "metadata": {
        "id": "skOF2Zaf16Ir"
      },
      "source": [
        "#converting list to array \r\n",
        "list1 = [[2,4,6],\r\n",
        "         [3,5,7]]\r\n",
        "arr1 = np.array(list1);         "
      ],
      "execution_count": 9,
      "outputs": []
    },
    {
      "cell_type": "code",
      "metadata": {
        "colab": {
          "base_uri": "https://localhost:8080/"
        },
        "id": "F-EhtRDK4OXf",
        "outputId": "3c25cc46-a1b1-4a5b-f524-82a99aa9438f"
      },
      "source": [
        "#float array\r\n",
        "arr2 = np.array(arr1 , dtype = 'float')\r\n",
        "arr2"
      ],
      "execution_count": 11,
      "outputs": [
        {
          "output_type": "execute_result",
          "data": {
            "text/plain": [
              "array([[2., 4., 6.],\n",
              "       [3., 5., 7.]])"
            ]
          },
          "metadata": {
            "tags": []
          },
          "execution_count": 11
        }
      ]
    },
    {
      "cell_type": "code",
      "metadata": {
        "colab": {
          "base_uri": "https://localhost:8080/"
        },
        "id": "FqI7LbAw4mxg",
        "outputId": "d71f4dfc-57f3-4c54-9b4b-d50234c34049"
      },
      "source": [
        "# array to list\r\n",
        "list2 = arr2.tolist();\r\n",
        "list2"
      ],
      "execution_count": 14,
      "outputs": [
        {
          "output_type": "execute_result",
          "data": {
            "text/plain": [
              "[[2.0, 4.0, 6.0], [3.0, 5.0, 7.0]]"
            ]
          },
          "metadata": {
            "tags": []
          },
          "execution_count": 14
        }
      ]
    },
    {
      "cell_type": "markdown",
      "metadata": {
        "id": "KSvn1SZf6Zrn"
      },
      "source": [
        "#Array Diamensions"
      ]
    },
    {
      "cell_type": "code",
      "metadata": {
        "colab": {
          "base_uri": "https://localhost:8080/"
        },
        "id": "K_9VtlFv6f4z",
        "outputId": "af9d4269-bdc6-423d-d0eb-94a3888b1eef"
      },
      "source": [
        "arr2.shape\r\n",
        "arr2.size"
      ],
      "execution_count": 18,
      "outputs": [
        {
          "output_type": "execute_result",
          "data": {
            "text/plain": [
              "6"
            ]
          },
          "metadata": {
            "tags": []
          },
          "execution_count": 18
        }
      ]
    },
    {
      "cell_type": "markdown",
      "metadata": {
        "id": "s4fPxbig-IvQ"
      },
      "source": [
        "# Reversing rows and columns"
      ]
    },
    {
      "cell_type": "code",
      "metadata": {
        "colab": {
          "base_uri": "https://localhost:8080/"
        },
        "id": "OIwDGIsG9o_4",
        "outputId": "49ef4248-46c2-4bbd-d75d-4cf9f03a3a21"
      },
      "source": [
        "#reversing row\r\n",
        "arr2[::-1]"
      ],
      "execution_count": 19,
      "outputs": [
        {
          "output_type": "execute_result",
          "data": {
            "text/plain": [
              "array([[3., 5., 7.],\n",
              "       [2., 4., 6.]])"
            ]
          },
          "metadata": {
            "tags": []
          },
          "execution_count": 19
        }
      ]
    },
    {
      "cell_type": "code",
      "metadata": {
        "colab": {
          "base_uri": "https://localhost:8080/"
        },
        "id": "nGwizR5a-e10",
        "outputId": "adfcb50f-817e-4f1d-99cb-65c141eaae59"
      },
      "source": [
        "#reverse the columns\r\n",
        "arr2[::,::-1]"
      ],
      "execution_count": 20,
      "outputs": [
        {
          "output_type": "execute_result",
          "data": {
            "text/plain": [
              "array([[6., 4., 2.],\n",
              "       [7., 5., 3.]])"
            ]
          },
          "metadata": {
            "tags": []
          },
          "execution_count": 20
        }
      ]
    },
    {
      "cell_type": "code",
      "metadata": {
        "colab": {
          "base_uri": "https://localhost:8080/"
        },
        "id": "AKJJ_jwb-r_8",
        "outputId": "e33c5b5f-1ae4-4ce6-c3b8-eb769ca27848"
      },
      "source": [
        "#reerse both row and columns\r\n",
        "arr2[::-1,::-1]"
      ],
      "execution_count": 21,
      "outputs": [
        {
          "output_type": "execute_result",
          "data": {
            "text/plain": [
              "array([[7., 5., 3.],\n",
              "       [6., 4., 2.]])"
            ]
          },
          "metadata": {
            "tags": []
          },
          "execution_count": 21
        }
      ]
    },
    {
      "cell_type": "markdown",
      "metadata": {
        "id": "XhJSms7l_UoU"
      },
      "source": [
        "# Specific Elements Extraction"
      ]
    },
    {
      "cell_type": "code",
      "metadata": {
        "colab": {
          "base_uri": "https://localhost:8080/"
        },
        "id": "P5GsrmvE-8LQ",
        "outputId": "4e9ce54c-9718-4059-a321-5c73c2e00566"
      },
      "source": [
        "#all the columns element but from 1 row\r\n",
        "arr1[0,:]\r\n",
        "#it is equivalent to \r\n",
        "arr1[:1,:]"
      ],
      "execution_count": 23,
      "outputs": [
        {
          "output_type": "execute_result",
          "data": {
            "text/plain": [
              "array([[2, 4, 6]])"
            ]
          },
          "metadata": {
            "tags": []
          },
          "execution_count": 23
        }
      ]
    },
    {
      "cell_type": "markdown",
      "metadata": {
        "id": "ZyER486PGcOw"
      },
      "source": [
        "#Basic Statistics \r\n"
      ]
    },
    {
      "cell_type": "code",
      "metadata": {
        "id": "yY0GxTsKACmF"
      },
      "source": [
        ""
      ],
      "execution_count": null,
      "outputs": []
    }
  ]
}